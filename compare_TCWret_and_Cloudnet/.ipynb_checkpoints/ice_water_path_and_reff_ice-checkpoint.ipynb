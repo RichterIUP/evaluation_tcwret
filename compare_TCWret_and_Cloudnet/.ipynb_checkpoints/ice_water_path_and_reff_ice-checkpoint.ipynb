{
 "cells": [
  {
   "cell_type": "markdown",
   "metadata": {},
   "source": [
    "## Compare ice water path and effective radii"
   ]
  },
  {
   "cell_type": "code",
   "execution_count": 13,
   "metadata": {},
   "outputs": [],
   "source": [
    "import os\n",
    "import netCDF4 as nc\n",
    "import datetime as dt\n",
    "import numpy as np\n",
    "import pandas as pd\n",
    "import matplotlib.pyplot as plt\n",
    "import scipy.stats\n",
    "import urllib.request\n",
    "import urllib.error"
   ]
  },
  {
   "cell_type": "markdown",
   "metadata": {},
   "source": [
    "Download TCWret data"
   ]
  },
  {
   "cell_type": "code",
   "execution_count": 14,
   "metadata": {},
   "outputs": [],
   "source": [
    "fname_tcwret = \"TCWret.nc\"\n",
    "url = \"https://download.pangaea.de/dataset/933829/files/TCWret_PS106_PS107.nc\"\n",
    "if not os.path.exists(fname_tcwret):\n",
    "    try:\n",
    "        response = urllib.request.urlopen(url)\n",
    "    except urllib.error.HTTPError:\n",
    "        print(\"URL not found!\")\n",
    "    else:\n",
    "        data = response.read()\n",
    "        with open(fname_tcwret, 'wb') as fobj:\n",
    "            fobj.write(data)"
   ]
  },
  {
   "cell_type": "markdown",
   "metadata": {},
   "source": [
    "Define paths where to find the data. Cloudnet data must be downloaded from Pangaea first!"
   ]
  },
  {
   "cell_type": "code",
   "execution_count": 15,
   "metadata": {},
   "outputs": [],
   "source": [
    "path_cnet = '../get_cloudnet'"
   ]
  },
  {
   "cell_type": "markdown",
   "metadata": {},
   "source": [
    "Read data from TCWret and save them as Pandas.DataFrame"
   ]
  },
  {
   "cell_type": "code",
   "execution_count": 16,
   "metadata": {},
   "outputs": [],
   "source": [
    "with nc.Dataset(fname_tcwret) as f:\n",
    "    seconds = f.variables['time_of_measurement'][:]\n",
    "    iwp = f.variables['ice_water_path'][:]\n",
    "    iwp_err = f.variables['ice_water_path_error'][:]\n",
    "    rice = f.variables['ice_water_effective_droplet_radius'][:]\n",
    "    rliq = f.variables['liquid_water_effective_droplet_radius'][:]\n",
    "    drice = f.variables['ice_water_effective_droplet_radius_error'][:]\n",
    "    red_chi_2 = f.variables['reduced_chi_2'][:]\n",
    "    t_cw = f.variables['liquid_water_optical_depth'][:] + f.variables['ice_water_optical_depth'][:]\n",
    "    avk = f.variables['averaging_kernel_matrix'][:]\n",
    "    ti = f.variables['ice_water_optical_depth'][:]\n",
    "    pwv = f.variables['precipitable_water_vapour'][:]\n",
    "            \n",
    "time = np.array([])\n",
    "for ii in range(len(seconds)):\n",
    "    sec = int(seconds[ii])\n",
    "    time = np.concatenate((time, [dt.timedelta(seconds=sec) + dt.datetime(2017, 5, 1)]))\n",
    "        \n",
    "tcwret_raw = pd.DataFrame({'time': time, 'pwv(cm)': pwv, 'rliq(um)': rliq, 'rice(um)': rice, 'drice(um)': drice, 'iwp(gm-2)': iwp, 'diwp(gm-2)': iwp_err, 'red_chi_2(1)': red_chi_2, 'ti(1)': ti, 'tcw(1)': t_cw})"
   ]
  },
  {
   "cell_type": "markdown",
   "metadata": {},
   "source": [
    "Apply filtering of data"
   ]
  },
  {
   "cell_type": "code",
   "execution_count": 17,
   "metadata": {},
   "outputs": [],
   "source": [
    "tau_max = 6.0\n",
    "tau_min = 0.0\n",
    "\n",
    "#idx_avk_11_neq_0 = np.where((avk[:,1,1] > 0.001) | (ti != 0.25))[0]\n",
    "idx_conv = np.where((tcwret_raw['red_chi_2(1)'] <= 1.0) & (tcwret_raw['red_chi_2(1)'] >= 0.0))[0]\n",
    "idx_tau = np.where((tcwret_raw['tcw(1)'] <= tau_max) & (tcwret_raw['tcw(1)'] >= tau_min))[0]\n",
    "idx_valid = np.intersect1d(idx_conv, idx_tau)\n",
    "idx_tau = np.where((tcwret_raw['ti(1)']/tcwret_raw['tcw(1)'] > 0.1))[0]\n",
    "tcwret = tcwret_raw.iloc[idx_valid]\n",
    "\n",
    "tcwret = tcwret.iloc[np.array(tcwret['rliq(um)']) < np.array(tcwret['rice(um)'])]"
   ]
  },
  {
   "cell_type": "markdown",
   "metadata": {},
   "source": [
    "Read Cloudnet data. Only allow retrieval flags 0,1,3 and 4"
   ]
  },
  {
   "cell_type": "code",
   "execution_count": 18,
   "metadata": {},
   "outputs": [],
   "source": [
    "iwc_st_invalid = [2,5,6]\n",
    "cloudnet = {'time': [], 'iwp(gm-2)': [], 'diwp(gm-2)': [], 'rice(um)': [], 'drice(um)': []}\n",
    "for file_ in sorted(os.listdir(path_cnet)):\n",
    "    if \".nc\" in file_:\n",
    "        with nc.Dataset(os.path.join(path_cnet, file_)) as f:\n",
    "            if \"cnet\" not in file_:\n",
    "                continue\n",
    "            day_month = dt.datetime.strptime(file_, 'cnet_%m_%d.nc')\n",
    "            day = dt.datetime(2017, day_month.month, day_month.day)\n",
    "            time = f.variables['datetime'][:]\n",
    "            height = f.variables['height'][:]\n",
    "            iwc = f.variables['ice_water_content'][:]\n",
    "            iwp = f.variables['ice_water_path_per_layer'][:]\n",
    "            iwp_st = f.variables['ice_water_content_status'][:]\n",
    "            iwp_err = f.variables['ice_water_content_error'][:]\n",
    "            rice = f.variables['reff_ice'][:]\n",
    "            rice_err = f.variables['reff_ice_error'][:]\n",
    "            dz = np.diff(height)\n",
    "            dz = np.concatenate((dz, [0]))\n",
    "            for time_idx in range(len(time)):\n",
    "                time_iter = day + dt.timedelta(seconds=int(np.round(time[time_idx]*3600)))\n",
    "                idx_ice = np.where(iwp[time_idx] > 0.0)[0]\n",
    "\n",
    "                iwc_invalid = np.intersect1d(iwp_st[time_idx], np.array(iwc_st_invalid))\n",
    "                if iwc_invalid.size != 0: continue\n",
    "                if idx_ice.size == 0:\n",
    "                    continue \n",
    "                else:\n",
    "                    rice_sum = np.mean(rice[time_idx, idx_ice])\n",
    "                    rice_err_sum = np.mean(rice_err[time_idx, idx_ice])\n",
    "                    iwc_err_abs = iwc[time_idx, idx_ice]*10**iwp_err[time_idx, idx_ice]*1e-2#1e-2 because of percent\n",
    "                    diwp = iwc_err_abs * dz[idx_ice]\n",
    "                    diwp_sum = np.sum(diwp)\n",
    "                cloudnet['rice(um)'].append(rice_sum)\n",
    "                cloudnet['drice(um)'].append(rice_err_sum)\n",
    "                cloudnet['time'].append(time_iter)\n",
    "                cloudnet['iwp(gm-2)'].append(np.sum(iwp[time_idx]))\n",
    "                cloudnet['diwp(gm-2)'].append(diwp_sum)\n",
    "cloudnet = pd.DataFrame(cloudnet)"
   ]
  },
  {
   "cell_type": "markdown",
   "metadata": {},
   "source": [
    "Remove masked entries"
   ]
  },
  {
   "cell_type": "code",
   "execution_count": 19,
   "metadata": {},
   "outputs": [],
   "source": [
    "idx = np.array([])\n",
    "for ii in range(len(cloudnet)):\n",
    "    if  not (np.ma.is_masked(cloudnet['iwp(gm-2)'].iloc[ii]) or np.ma.is_masked(cloudnet['diwp(gm-2)'].iloc[ii]) or \\\n",
    "             np.ma.is_masked(cloudnet['rice(um)'].iloc[ii]) or np.ma.is_masked(cloudnet['drice(um)'].iloc[ii])):\n",
    "        idx = np.concatenate((idx, [ii]))\n",
    "idx = np.array(idx, dtype=int)\n",
    "cloudnet = cloudnet.iloc[idx]"
   ]
  },
  {
   "cell_type": "markdown",
   "metadata": {},
   "source": [
    "Define averaging time interval (minutes)"
   ]
  },
  {
   "cell_type": "code",
   "execution_count": 20,
   "metadata": {},
   "outputs": [],
   "source": [
    "delta = 2"
   ]
  },
  {
   "cell_type": "markdown",
   "metadata": {},
   "source": [
    "Average Cloudnet data"
   ]
  },
  {
   "cell_type": "code",
   "execution_count": 21,
   "metadata": {},
   "outputs": [],
   "source": [
    "iwp_mean = []\n",
    "diwp_mean = []\n",
    "rice_mean = []\n",
    "drice_mean = []\n",
    "time_mean = []\n",
    "datetime_start = np.datetime64(\"2017-05-24T20:25:00\")\n",
    "datetime_iter = datetime_start\n",
    "datetime_stop = np.datetime64(\"2017-07-18T00:00:00\")\n",
    "while datetime_iter < datetime_stop:\n",
    "    idx = np.where((np.array(cloudnet['time']) > datetime_iter) & \\\n",
    "                   (np.array(cloudnet['time']) < datetime_iter+np.timedelta64(delta*60, 's')))[0]\n",
    "    if idx.size != 0:\n",
    "        iwp_mean.append(np.mean(np.array(cloudnet['iwp(gm-2)'])[idx]))\n",
    "        diwp_mean.append(np.mean(np.array(cloudnet['diwp(gm-2)'])[idx]))\n",
    "        rice_mean.append(np.mean(np.array(cloudnet['rice(um)'])[idx]))\n",
    "        drice_mean.append(np.mean(np.array(cloudnet['drice(um)'])[idx]))\n",
    "        time_mean.append(datetime_iter)\n",
    "    datetime_iter += np.timedelta64(delta*60, 's')\n",
    "    \n",
    "cloudnet_av = pd.DataFrame({'time': time_mean, 'iwp(gm-2)': iwp_mean, 'diwp(gm-2)': diwp_mean, \\\n",
    "                            'rice(um)': rice_mean, 'drice(um)': drice_mean})"
   ]
  },
  {
   "cell_type": "markdown",
   "metadata": {},
   "source": [
    "Average TCWret data"
   ]
  },
  {
   "cell_type": "code",
   "execution_count": 22,
   "metadata": {},
   "outputs": [],
   "source": [
    "ti_mean = []\n",
    "iwp_mean = []\n",
    "diwp_mean = []\n",
    "rice_mean = []\n",
    "drice_mean = []\n",
    "time_mean = []\n",
    "pwv_mean = []\n",
    "chi_mean = []\n",
    "datetime_start = np.datetime64(\"2017-05-24T20:25:00\")\n",
    "datetime_iter = datetime_start\n",
    "datetime_stop = np.datetime64(\"2017-07-18T00:00:00\")\n",
    "while datetime_iter < datetime_stop:\n",
    "    idx = np.where((np.array(tcwret['time']) > datetime_iter) & \\\n",
    "                   (np.array(tcwret['time']) < datetime_iter+np.timedelta64(delta*60, 's')))[0]\n",
    "    if idx.size != 0:\n",
    "        iwp_mean.append(np.mean(np.array(tcwret['iwp(gm-2)'])[idx]))\n",
    "        diwp_mean.append(np.mean(np.array(tcwret['diwp(gm-2)'])[idx]))\n",
    "        rice_mean.append(np.mean(np.array(tcwret['rice(um)'])[idx]))\n",
    "        drice_mean.append(np.mean(np.array(tcwret['drice(um)'])[idx]))\n",
    "        pwv_mean.append(np.mean(np.array(tcwret['pwv(cm)'])[idx]))\n",
    "        chi_mean.append(np.mean(np.array(tcwret['red_chi_2(1)'])[idx]))\n",
    "        ti_mean.append(np.mean(np.array(tcwret['ti(1)'])[idx]))\n",
    "        time_mean.append(datetime_iter)\n",
    "    datetime_iter += np.timedelta64(delta*60, 's')\n",
    "    \n",
    "tcwret_av = pd.DataFrame({'time': time_mean, \\\n",
    "                          'iwp(gm-2)': iwp_mean, \\\n",
    "                          'rice(um)': rice_mean, \\\n",
    "                          'drice(um)': drice_mean, \\\n",
    "                          'diwp(gm-2)': diwp_mean, \\\n",
    "                          'pwv(cm)': pwv_mean, \\\n",
    "                          'red_chi_2(1)': chi_mean, \\\n",
    "                          'ti(1)': ti_mean})"
   ]
  },
  {
   "cell_type": "markdown",
   "metadata": {},
   "source": [
    "Error scaling factor according to testcases"
   ]
  },
  {
   "cell_type": "code",
   "execution_count": 23,
   "metadata": {},
   "outputs": [],
   "source": [
    "scale_iwp = 9.85/5.06\n",
    "scale_rice = 9.68/2.32"
   ]
  },
  {
   "cell_type": "code",
   "execution_count": 24,
   "metadata": {},
   "outputs": [
    {
     "name": "stdout",
     "output_type": "stream",
     "text": [
      "Data\t\tcor\tp-Value\tMean\tSD\tNumber\n",
      "IWP All\t\t\t0.41\t0.00\t1.54\t16.69\t270\n",
      "IWP PWV < 1.0\t\t0.31\t0.00\t1.67\t11.55\t187\n",
      "rice\t\t\t-0.04\t0.46\t-16.77\t12.83\t270\n"
     ]
    }
   ],
   "source": [
    "intersect, idx_tcwret, idx_cloudnet = np.intersect1d(tcwret_av['time'], cloudnet_av['time'], return_indices=True)\n",
    "xax = np.array(tcwret_av['iwp(gm-2)'].iloc[idx_tcwret])\n",
    "yax = np.array(cloudnet_av['iwp(gm-2)'].iloc[idx_cloudnet])\n",
    "xax_err = np.array(tcwret_av['diwp(gm-2)'].iloc[idx_tcwret])*scale_iwp\n",
    "yax_err = np.array(cloudnet_av['diwp(gm-2)'].iloc[idx_cloudnet])\n",
    "cax = np.array(tcwret_av['pwv(cm)'].iloc[idx_tcwret])\n",
    "\n",
    "diff = xax - yax\n",
    "pearsonr, pval = scipy.stats.pearsonr(xax, yax)\n",
    "\n",
    "print(\"Data\\t\\tcor\\tp-Value\\tMean\\tSD\\tNumber\")\n",
    "print(\"IWP All\\t\\t\\t{:.2f}\\t{:.2f}\\t{:.2f}\\t{:.2f}\\t{}\".format(pearsonr, pval, np.mean(diff), np.std(diff), diff.size))\n",
    "\n",
    "idx = np.where(cax < 1.0)[0]\n",
    "xax_pwv = xax[idx]\n",
    "yax_pwv = yax[idx]\n",
    "xax_pwv_err = xax_err[idx]\n",
    "yax_pwv_err = yax_err[idx]\n",
    "diff_pwv = xax_pwv-yax_pwv\n",
    "pearsonr, pval = scipy.stats.pearsonr(xax_pwv,yax_pwv)\n",
    "\n",
    "print(\"IWP PWV < 1.0\\t\\t{:.2f}\\t{:.2f}\\t{:.2f}\\t{:.2f}\\t{}\".format(pearsonr, pval, np.mean(diff_pwv), np.std(diff_pwv), diff_pwv.size))\n",
    "\n",
    "idx_rice = np.where((xax > 0.0) & (yax > 0.0))[0]\n",
    "xax_rice = np.array(tcwret_av['rice(um)'].iloc[idx_tcwret])[idx_rice]\n",
    "yax_rice = np.array(cloudnet_av['rice(um)'].iloc[idx_cloudnet])[idx_rice]\n",
    "xax_rice_err = np.array(tcwret_av['drice(um)'].iloc[idx_tcwret])[idx_rice]*scale_rice\n",
    "yax_rice_err = np.array(cloudnet_av['drice(um)'].iloc[idx_tcwret])[idx_rice]\n",
    "diff_rice = xax_rice-yax_rice\n",
    "pearsonr, pval = scipy.stats.pearsonr(xax_rice,yax_rice)\n",
    "\n",
    "print(\"rice\\t\\t\\t{:.2f}\\t{:.2f}\\t{:.2f}\\t{:.2f}\\t{}\".format(pearsonr, pval, np.mean(diff_rice), np.std(diff_rice), diff_rice.size))"
   ]
  }
 ],
 "metadata": {
  "kernelspec": {
   "display_name": "Python 3",
   "language": "python",
   "name": "python3"
  },
  "language_info": {
   "codemirror_mode": {
    "name": "ipython",
    "version": 3
   },
   "file_extension": ".py",
   "mimetype": "text/x-python",
   "name": "python",
   "nbconvert_exporter": "python",
   "pygments_lexer": "ipython3",
   "version": "3.7.6"
  }
 },
 "nbformat": 4,
 "nbformat_minor": 4
}
