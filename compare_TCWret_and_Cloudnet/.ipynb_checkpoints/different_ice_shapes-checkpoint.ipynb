{
 "cells": [
  {
   "cell_type": "markdown",
   "metadata": {},
   "source": [
    "## Compare ice water path and effective radii"
   ]
  },
  {
   "cell_type": "code",
   "execution_count": 1,
   "metadata": {},
   "outputs": [],
   "source": [
    "import os\n",
    "import netCDF4 as nc\n",
    "import datetime as dt\n",
    "import numpy as np\n",
    "import pandas as pd\n",
    "import matplotlib.pyplot as plt\n",
    "import scipy.stats"
   ]
  },
  {
   "cell_type": "markdown",
   "metadata": {},
   "source": [
    "Print different shapes"
   ]
  },
  {
   "cell_type": "code",
   "execution_count": 2,
   "metadata": {},
   "outputs": [
    {
     "data": {
      "text/plain": [
       "['.ipynb_checkpoints',\n",
       " 'aggregates.nc',\n",
       " 'bulletrosettes.nc',\n",
       " 'droxtals.nc',\n",
       " 'hollowcols.nc',\n",
       " 'plates.nc',\n",
       " 'solidcols.nc',\n",
       " 'spheres.nc',\n",
       " 'spheroids.nc']"
      ]
     },
     "execution_count": 2,
     "metadata": {},
     "output_type": "execute_result"
    }
   ],
   "source": [
    "path_shapes = \"../data_TCWret\"\n",
    "sorted(os.listdir(path_shapes))"
   ]
  },
  {
   "cell_type": "markdown",
   "metadata": {},
   "source": [
    "Define paths where to find the data. Cloudnet data must be downloaded from Pangaea first!"
   ]
  },
  {
   "cell_type": "code",
   "execution_count": 3,
   "metadata": {},
   "outputs": [],
   "source": [
    "path_cnet = os.path.join(os.getenv('HOME'), 'Doktorandenzeit/DATA_PHD/Cloudnet/merged')"
   ]
  },
  {
   "cell_type": "markdown",
   "metadata": {},
   "source": [
    "Read data from TCWret and save them as Pandas.DataFrame"
   ]
  },
  {
   "cell_type": "code",
   "execution_count": 4,
   "metadata": {},
   "outputs": [],
   "source": [
    "tcwret_raw = {}\n",
    "for shape_name in sorted(os.listdir(path_shapes)):\n",
    "    if \".nc\" in shape_name:\n",
    "        shape = shape_name.split(\".nc\")[0]\n",
    "        fname_tcwret = os.path.join(path_shapes, '{}.nc'.format(shape))\n",
    "        tcwret_raw.update({shape: None})\n",
    "        with nc.Dataset(fname_tcwret) as f:\n",
    "            seconds = f.variables['time_of_measurement'][:]\n",
    "            iwp = f.variables['ice_water_path'][:]\n",
    "            iwp_err = f.variables['ice_water_path_error'][:]\n",
    "            rice = f.variables['ice_water_effective_droplet_radius'][:]\n",
    "            rliq = f.variables['liquid_water_effective_droplet_radius'][:]\n",
    "            drice = f.variables['ice_water_effective_droplet_radius_error'][:]\n",
    "            red_chi_2 = f.variables['reduced_chi_2'][:]\n",
    "            t_cw = f.variables['liquid_water_optical_depth'][:] + f.variables['ice_water_optical_depth'][:]\n",
    "            avk = f.variables['averaging_kernel_matrix'][:]\n",
    "            ti = f.variables['ice_water_optical_depth'][:]\n",
    "            \n",
    "        time = np.array([])\n",
    "        for ii in range(len(seconds)):\n",
    "            sec = int(seconds[ii])\n",
    "            time = np.concatenate((time, [dt.timedelta(seconds=sec) + dt.datetime(2017, 5, 1)]))\n",
    "\n",
    "        tcwret_raw[shape] = pd.DataFrame({'time': time, 'rliq(um)': rliq, 'rice(um)': rice, 'drice(um)': drice, 'iwp(gm-2)': iwp, 'diwp(gm-2)': iwp_err, 'red_chi_2(1)': red_chi_2, 'ti(1)': ti, 'tcw(1)': t_cw})"
   ]
  },
  {
   "cell_type": "code",
   "execution_count": 5,
   "metadata": {},
   "outputs": [
    {
     "data": {
      "text/html": [
       "<div>\n",
       "<style scoped>\n",
       "    .dataframe tbody tr th:only-of-type {\n",
       "        vertical-align: middle;\n",
       "    }\n",
       "\n",
       "    .dataframe tbody tr th {\n",
       "        vertical-align: top;\n",
       "    }\n",
       "\n",
       "    .dataframe thead th {\n",
       "        text-align: right;\n",
       "    }\n",
       "</style>\n",
       "<table border=\"1\" class=\"dataframe\">\n",
       "  <thead>\n",
       "    <tr style=\"text-align: right;\">\n",
       "      <th></th>\n",
       "      <th>time</th>\n",
       "      <th>rliq(um)</th>\n",
       "      <th>rice(um)</th>\n",
       "      <th>drice(um)</th>\n",
       "      <th>iwp(gm-2)</th>\n",
       "      <th>diwp(gm-2)</th>\n",
       "      <th>red_chi_2(1)</th>\n",
       "      <th>ti(1)</th>\n",
       "      <th>tcw(1)</th>\n",
       "    </tr>\n",
       "  </thead>\n",
       "  <tbody>\n",
       "    <tr>\n",
       "      <th>0</th>\n",
       "      <td>2017-06-11 10:08:00</td>\n",
       "      <td>7.974245</td>\n",
       "      <td>15.887919</td>\n",
       "      <td>1.381761</td>\n",
       "      <td>3.561161e+01</td>\n",
       "      <td>2.517563e+00</td>\n",
       "      <td>3.152552</td>\n",
       "      <td>3.805246e+00</td>\n",
       "      <td>6.916910</td>\n",
       "    </tr>\n",
       "    <tr>\n",
       "      <th>1</th>\n",
       "      <td>2017-06-11 10:09:00</td>\n",
       "      <td>6.880149</td>\n",
       "      <td>27.511839</td>\n",
       "      <td>1.460649</td>\n",
       "      <td>4.448450e+01</td>\n",
       "      <td>2.783188e+00</td>\n",
       "      <td>3.716559</td>\n",
       "      <td>2.815886e+00</td>\n",
       "      <td>5.392722</td>\n",
       "    </tr>\n",
       "    <tr>\n",
       "      <th>2</th>\n",
       "      <td>2017-06-11 10:13:00</td>\n",
       "      <td>10.367927</td>\n",
       "      <td>30.277388</td>\n",
       "      <td>2.826590</td>\n",
       "      <td>1.276249e+01</td>\n",
       "      <td>1.143131e+01</td>\n",
       "      <td>3.254398</td>\n",
       "      <td>7.341187e-01</td>\n",
       "      <td>6.501216</td>\n",
       "    </tr>\n",
       "    <tr>\n",
       "      <th>3</th>\n",
       "      <td>2017-06-11 10:14:00</td>\n",
       "      <td>9.661482</td>\n",
       "      <td>23.804296</td>\n",
       "      <td>1.439381</td>\n",
       "      <td>2.955517e+01</td>\n",
       "      <td>2.790316e+00</td>\n",
       "      <td>2.489319</td>\n",
       "      <td>2.165388e+00</td>\n",
       "      <td>4.284064</td>\n",
       "    </tr>\n",
       "    <tr>\n",
       "      <th>4</th>\n",
       "      <td>2017-06-11 10:44:00</td>\n",
       "      <td>10.137022</td>\n",
       "      <td>34.378897</td>\n",
       "      <td>1.557839</td>\n",
       "      <td>1.113497e+02</td>\n",
       "      <td>6.256673e+00</td>\n",
       "      <td>1.411136</td>\n",
       "      <td>5.629348e+00</td>\n",
       "      <td>7.384856</td>\n",
       "    </tr>\n",
       "    <tr>\n",
       "      <th>...</th>\n",
       "      <td>...</td>\n",
       "      <td>...</td>\n",
       "      <td>...</td>\n",
       "      <td>...</td>\n",
       "      <td>...</td>\n",
       "      <td>...</td>\n",
       "      <td>...</td>\n",
       "      <td>...</td>\n",
       "      <td>...</td>\n",
       "    </tr>\n",
       "    <tr>\n",
       "      <th>4289</th>\n",
       "      <td>2017-08-11 16:00:30</td>\n",
       "      <td>9.841646</td>\n",
       "      <td>20.000000</td>\n",
       "      <td>1.000000</td>\n",
       "      <td>2.192227e-20</td>\n",
       "      <td>1.269573e-21</td>\n",
       "      <td>0.885371</td>\n",
       "      <td>1.895520e-21</td>\n",
       "      <td>1.019576</td>\n",
       "    </tr>\n",
       "    <tr>\n",
       "      <th>4290</th>\n",
       "      <td>2017-08-11 16:01:00</td>\n",
       "      <td>11.841658</td>\n",
       "      <td>20.000000</td>\n",
       "      <td>1.000000</td>\n",
       "      <td>1.714330e-20</td>\n",
       "      <td>1.509173e-20</td>\n",
       "      <td>0.547373</td>\n",
       "      <td>1.482304e-21</td>\n",
       "      <td>0.816455</td>\n",
       "    </tr>\n",
       "    <tr>\n",
       "      <th>4291</th>\n",
       "      <td>2017-08-11 16:03:00</td>\n",
       "      <td>8.996715</td>\n",
       "      <td>20.000000</td>\n",
       "      <td>1.000000</td>\n",
       "      <td>3.880022e-20</td>\n",
       "      <td>1.644369e-21</td>\n",
       "      <td>0.604372</td>\n",
       "      <td>3.354881e-21</td>\n",
       "      <td>1.589783</td>\n",
       "    </tr>\n",
       "    <tr>\n",
       "      <th>4292</th>\n",
       "      <td>2017-08-11 16:03:15</td>\n",
       "      <td>9.025100</td>\n",
       "      <td>20.000000</td>\n",
       "      <td>1.000000</td>\n",
       "      <td>4.673176e-20</td>\n",
       "      <td>6.873348e-21</td>\n",
       "      <td>0.734644</td>\n",
       "      <td>4.040687e-21</td>\n",
       "      <td>1.498592</td>\n",
       "    </tr>\n",
       "    <tr>\n",
       "      <th>4293</th>\n",
       "      <td>2017-08-11 16:03:30</td>\n",
       "      <td>9.094355</td>\n",
       "      <td>20.000000</td>\n",
       "      <td>1.000000</td>\n",
       "      <td>5.326194e-20</td>\n",
       "      <td>1.857088e-20</td>\n",
       "      <td>0.689898</td>\n",
       "      <td>4.605322e-21</td>\n",
       "      <td>1.916017</td>\n",
       "    </tr>\n",
       "  </tbody>\n",
       "</table>\n",
       "<p>4294 rows × 9 columns</p>\n",
       "</div>"
      ],
      "text/plain": [
       "                    time   rliq(um)   rice(um)  drice(um)     iwp(gm-2)  \\\n",
       "0    2017-06-11 10:08:00   7.974245  15.887919   1.381761  3.561161e+01   \n",
       "1    2017-06-11 10:09:00   6.880149  27.511839   1.460649  4.448450e+01   \n",
       "2    2017-06-11 10:13:00  10.367927  30.277388   2.826590  1.276249e+01   \n",
       "3    2017-06-11 10:14:00   9.661482  23.804296   1.439381  2.955517e+01   \n",
       "4    2017-06-11 10:44:00  10.137022  34.378897   1.557839  1.113497e+02   \n",
       "...                  ...        ...        ...        ...           ...   \n",
       "4289 2017-08-11 16:00:30   9.841646  20.000000   1.000000  2.192227e-20   \n",
       "4290 2017-08-11 16:01:00  11.841658  20.000000   1.000000  1.714330e-20   \n",
       "4291 2017-08-11 16:03:00   8.996715  20.000000   1.000000  3.880022e-20   \n",
       "4292 2017-08-11 16:03:15   9.025100  20.000000   1.000000  4.673176e-20   \n",
       "4293 2017-08-11 16:03:30   9.094355  20.000000   1.000000  5.326194e-20   \n",
       "\n",
       "        diwp(gm-2)  red_chi_2(1)         ti(1)    tcw(1)  \n",
       "0     2.517563e+00      3.152552  3.805246e+00  6.916910  \n",
       "1     2.783188e+00      3.716559  2.815886e+00  5.392722  \n",
       "2     1.143131e+01      3.254398  7.341187e-01  6.501216  \n",
       "3     2.790316e+00      2.489319  2.165388e+00  4.284064  \n",
       "4     6.256673e+00      1.411136  5.629348e+00  7.384856  \n",
       "...            ...           ...           ...       ...  \n",
       "4289  1.269573e-21      0.885371  1.895520e-21  1.019576  \n",
       "4290  1.509173e-20      0.547373  1.482304e-21  0.816455  \n",
       "4291  1.644369e-21      0.604372  3.354881e-21  1.589783  \n",
       "4292  6.873348e-21      0.734644  4.040687e-21  1.498592  \n",
       "4293  1.857088e-20      0.689898  4.605322e-21  1.916017  \n",
       "\n",
       "[4294 rows x 9 columns]"
      ]
     },
     "execution_count": 5,
     "metadata": {},
     "output_type": "execute_result"
    }
   ],
   "source": [
    "tcwret_raw['spheres']"
   ]
  },
  {
   "cell_type": "markdown",
   "metadata": {},
   "source": [
    "Apply filtering of data"
   ]
  },
  {
   "cell_type": "code",
   "execution_count": 6,
   "metadata": {},
   "outputs": [],
   "source": [
    "tau_max = 6.0\n",
    "tau_min = 0.0\n",
    "tcwret = {}\n",
    "for key in tcwret_raw.keys():\n",
    "    idx_conv = np.where((tcwret_raw[key]['red_chi_2(1)'] <= 1.0) & (tcwret_raw[key]['red_chi_2(1)'] >= 0.0))[0]\n",
    "    idx_tau = np.where((tcwret_raw[key]['tcw(1)'] <= tau_max) & (tcwret_raw[key]['tcw(1)'] >= tau_min))[0]\n",
    "    idx_valid = np.intersect1d(idx_conv, idx_tau)\n",
    "    idx_tau = np.where((tcwret_raw[key]['ti(1)']/tcwret_raw[key]['tcw(1)'] > 0.1))[0]\n",
    "    tcwret.update({key: None})\n",
    "    tcwret[key] = tcwret_raw[key].iloc[idx_valid]\n",
    "\n",
    "    tcwret[key] = tcwret[key].iloc[np.array(tcwret[key]['rliq(um)']) < np.array(tcwret[key]['rice(um)'])]"
   ]
  },
  {
   "cell_type": "markdown",
   "metadata": {},
   "source": [
    "Read Cloudnet data. Only allow retrieval flags 0,1,3 and 4"
   ]
  },
  {
   "cell_type": "code",
   "execution_count": 7,
   "metadata": {},
   "outputs": [
    {
     "name": "stderr",
     "output_type": "stream",
     "text": [
      "/home/philipp/anaconda3/lib/python3.7/site-packages/numpy/ma/core.py:6759: RuntimeWarning: overflow encountered in power\n",
      "  result = np.where(m, fa, umath.power(fa, fb)).view(basetype)\n"
     ]
    }
   ],
   "source": [
    "iwc_st_invalid = [2,5,6]\n",
    "cloudnet = {'time': [], 'iwp(gm-2)': [], 'diwp(gm-2)': [], 'rice(um)': [], 'drice(um)': []}\n",
    "for file_ in sorted(os.listdir(path_cnet)):\n",
    "    if \".nc\" in file_:\n",
    "        with nc.Dataset(os.path.join(path_cnet, file_)) as f:\n",
    "            if \"cnet\" not in file_:\n",
    "                continue\n",
    "            day_month = dt.datetime.strptime(file_, 'cnet_%m_%d.nc')\n",
    "            day = dt.datetime(2017, day_month.month, day_month.day)\n",
    "            time = f.variables['datetime'][:]\n",
    "            height = f.variables['height'][:]\n",
    "            iwc = f.variables['ice_water_content'][:]\n",
    "            iwp = f.variables['ice_water_path_per_layer'][:]\n",
    "            iwp_st = f.variables['ice_water_content_status'][:]\n",
    "            iwp_err = f.variables['ice_water_content_error'][:]\n",
    "            rice = f.variables['reff_ice'][:]\n",
    "            rice_err = f.variables['reff_ice_error'][:]\n",
    "            dz = np.diff(height)\n",
    "            dz = np.concatenate((dz, [0]))\n",
    "            for time_idx in range(len(time)):\n",
    "                time_iter = day + dt.timedelta(seconds=int(np.round(time[time_idx]*3600)))\n",
    "                idx_ice = np.where(iwp[time_idx] > 0.0)[0]\n",
    "\n",
    "                iwc_invalid = np.intersect1d(iwp_st[time_idx], np.array(iwc_st_invalid))\n",
    "                if iwc_invalid.size != 0: continue\n",
    "                if idx_ice.size == 0:\n",
    "                    continue \n",
    "                else:\n",
    "                    rice_sum = np.mean(rice[time_idx, idx_ice])\n",
    "                    rice_err_sum = np.mean(rice_err[time_idx, idx_ice])\n",
    "                    iwc_err_abs = iwc[time_idx, idx_ice]*10**iwp_err[time_idx, idx_ice]*1e-2#1e-2 wegen Prozent\n",
    "                    diwp = iwc_err_abs * dz[idx_ice]\n",
    "                    diwp_sum = np.sum(diwp)\n",
    "                cloudnet['rice(um)'].append(rice_sum)\n",
    "                cloudnet['drice(um)'].append(rice_err_sum)\n",
    "                cloudnet['time'].append(time_iter)\n",
    "                cloudnet['iwp(gm-2)'].append(np.sum(iwp[time_idx]))\n",
    "                cloudnet['diwp(gm-2)'].append(diwp_sum)\n",
    "cloudnet = pd.DataFrame(cloudnet)"
   ]
  },
  {
   "cell_type": "markdown",
   "metadata": {},
   "source": [
    "Remove masked entries"
   ]
  },
  {
   "cell_type": "code",
   "execution_count": 8,
   "metadata": {},
   "outputs": [],
   "source": [
    "idx = np.array([])\n",
    "for ii in range(len(cloudnet)):\n",
    "    if  not (np.ma.is_masked(cloudnet['iwp(gm-2)'].iloc[ii]) or np.ma.is_masked(cloudnet['diwp(gm-2)'].iloc[ii]) or \\\n",
    "             np.ma.is_masked(cloudnet['rice(um)'].iloc[ii]) or np.ma.is_masked(cloudnet['drice(um)'].iloc[ii])):\n",
    "        idx = np.concatenate((idx, [ii]))\n",
    "idx = np.array(idx, dtype=int)\n",
    "cloudnet = cloudnet.iloc[idx]"
   ]
  },
  {
   "cell_type": "markdown",
   "metadata": {},
   "source": [
    "Define averaging time interval (minutes)"
   ]
  },
  {
   "cell_type": "code",
   "execution_count": 9,
   "metadata": {},
   "outputs": [],
   "source": [
    "delta = 2"
   ]
  },
  {
   "cell_type": "markdown",
   "metadata": {},
   "source": [
    "Average Cloudnet data"
   ]
  },
  {
   "cell_type": "code",
   "execution_count": 10,
   "metadata": {},
   "outputs": [],
   "source": [
    "iwp_mean = []\n",
    "diwp_mean = []\n",
    "rice_mean = []\n",
    "drice_mean = []\n",
    "rice_bottom_mean = []\n",
    "drice_bottom_mean = []\n",
    "time_mean = []\n",
    "datetime_start = np.datetime64(\"2017-05-24T20:25:00\")\n",
    "datetime_iter = datetime_start\n",
    "datetime_stop = np.datetime64(\"2017-07-18T00:00:00\")\n",
    "while datetime_iter < datetime_stop:\n",
    "    idx = np.where((np.array(cloudnet['time']) > datetime_iter) & \\\n",
    "                   (np.array(cloudnet['time']) < datetime_iter+np.timedelta64(delta*60, 's')))[0]\n",
    "    if idx.size != 0:\n",
    "        iwp_mean.append(np.mean(np.array(cloudnet['iwp(gm-2)'])[idx]))\n",
    "        diwp_mean.append(np.mean(np.array(cloudnet['diwp(gm-2)'])[idx]))\n",
    "        rice_mean.append(np.mean(np.array(cloudnet['rice(um)'])[idx]))\n",
    "        drice_mean.append(np.mean(np.array(cloudnet['drice(um)'])[idx]))\n",
    "        time_mean.append(datetime_iter)\n",
    "    datetime_iter += np.timedelta64(delta*60, 's')\n",
    "    \n",
    "cloudnet_av = pd.DataFrame({'time': time_mean, 'iwp(gm-2)': iwp_mean, 'diwp(gm-2)': diwp_mean, \\\n",
    "                            'rice(um)': rice_mean, 'drice(um)': drice_mean})"
   ]
  },
  {
   "cell_type": "markdown",
   "metadata": {},
   "source": [
    "Average TCWret data"
   ]
  },
  {
   "cell_type": "code",
   "execution_count": 11,
   "metadata": {},
   "outputs": [],
   "source": [
    "tcwret_av = {}\n",
    "for key in tcwret.keys():\n",
    "    ti_mean = []\n",
    "    iwp_mean = []\n",
    "    diwp_mean = []\n",
    "    rice_mean = []\n",
    "    drice_mean = []\n",
    "    time_mean = []\n",
    "    pwv_mean = []\n",
    "    chi_mean = []\n",
    "    datetime_start = np.datetime64(\"2017-05-24T20:25:00\")\n",
    "    datetime_iter = datetime_start\n",
    "    datetime_stop = np.datetime64(\"2017-07-18T00:00:00\")\n",
    "    while datetime_iter < datetime_stop:\n",
    "        idx = np.where((np.array(tcwret[key]['time']) > datetime_iter) & \\\n",
    "                       (np.array(tcwret[key]['time']) < datetime_iter+np.timedelta64(delta*60, 's')))[0]\n",
    "        if idx.size != 0:\n",
    "            iwp_mean.append(np.mean(np.array(tcwret[key]['iwp(gm-2)'])[idx]))\n",
    "            diwp_mean.append(np.mean(np.array(tcwret[key]['diwp(gm-2)'])[idx]))\n",
    "            rice_mean.append(np.mean(np.array(tcwret[key]['rice(um)'])[idx]))\n",
    "            drice_mean.append(np.mean(np.array(tcwret[key]['drice(um)'])[idx]))\n",
    "            chi_mean.append(np.mean(np.array(tcwret[key]['red_chi_2(1)'])[idx]))\n",
    "            ti_mean.append(np.mean(np.array(tcwret[key]['ti(1)'])[idx]))\n",
    "            time_mean.append(datetime_iter)\n",
    "        datetime_iter += np.timedelta64(delta*60, 's')\n",
    "    tcwret_av.update({key : pd.DataFrame({'time': time_mean, \\\n",
    "                              'iwp(gm-2)': iwp_mean, \\\n",
    "                              'rice(um)': rice_mean, \\\n",
    "                              'drice(um)': drice_mean, \\\n",
    "                              'diwp(gm-2)': diwp_mean, \\\n",
    "                              'red_chi_2(1)': chi_mean, \\\n",
    "                              'ti(1)': ti_mean})})"
   ]
  },
  {
   "cell_type": "code",
   "execution_count": 12,
   "metadata": {},
   "outputs": [
    {
     "name": "stdout",
     "output_type": "stream",
     "text": [
      "Shape:  aggregates\n",
      "Data\t\tcor\tp-Value\tMean\tSD\tNumber\n",
      "IWP All\t\t0.56\t0.00\t4.62\t17.36\t205\n",
      "rice\t\t-0.08\t0.28\t-14.56\t17.34\t205\n",
      "\n",
      "Shape:  bulletrosettes\n",
      "Data\t\tcor\tp-Value\tMean\tSD\tNumber\n",
      "IWP All\t\t0.54\t0.00\t3.23\t18.71\t162\n",
      "rice\t\t-0.02\t0.76\t-10.86\t18.98\t162\n",
      "\n",
      "Shape:  droxtals\n",
      "Data\t\tcor\tp-Value\tMean\tSD\tNumber\n",
      "IWP All\t\t0.47\t0.00\t0.40\t13.03\t273\n",
      "rice\t\t-0.08\t0.17\t-18.53\t10.29\t273\n",
      "\n",
      "Shape:  hollowcols\n",
      "Data\t\tcor\tp-Value\tMean\tSD\tNumber\n",
      "IWP All\t\t0.56\t0.00\t1.84\t14.62\t255\n",
      "rice\t\t-0.02\t0.75\t-17.28\t10.68\t255\n",
      "\n",
      "Shape:  plates\n",
      "Data\t\tcor\tp-Value\tMean\tSD\tNumber\n",
      "IWP All\t\t0.63\t0.00\t0.07\t14.91\t227\n",
      "rice\t\t0.02\t0.76\t-17.54\t14.94\t227\n",
      "\n",
      "Shape:  solidcols\n",
      "Data\t\tcor\tp-Value\tMean\tSD\tNumber\n",
      "IWP All\t\t0.36\t0.00\t0.69\t14.69\t265\n",
      "rice\t\t-0.03\t0.58\t-18.23\t9.59\t265\n",
      "\n",
      "Shape:  spheres\n",
      "Data\t\tcor\tp-Value\tMean\tSD\tNumber\n",
      "IWP All\t\t0.29\t0.00\t0.63\t17.53\t272\n",
      "rice\t\t-0.18\t0.00\t-18.75\t11.85\t272\n",
      "\n",
      "Shape:  spheroids\n",
      "Data\t\tcor\tp-Value\tMean\tSD\tNumber\n",
      "IWP All\t\t0.32\t0.00\t1.97\t15.64\t256\n",
      "rice\t\t-0.17\t0.01\t-16.87\t11.73\t256\n",
      "\n"
     ]
    }
   ],
   "source": [
    "for key in tcwret_av.keys():\n",
    "    intersect, idx_tcwret, idx_cloudnet = np.intersect1d(tcwret_av[key]['time'], cloudnet_av['time'], return_indices=True)\n",
    "    xax_all = np.array(tcwret_av[key]['iwp(gm-2)'].iloc[idx_tcwret])\n",
    "    yax_all = np.array(cloudnet_av['iwp(gm-2)'].iloc[idx_cloudnet])\n",
    "    pearsonr, pval = scipy.stats.pearsonr(xax_all,yax_all)\n",
    "    print(\"Shape: \", key)\n",
    "    print(\"Data\\t\\tcor\\tp-Value\\tMean\\tSD\\tNumber\")\n",
    "    print(\"IWP All\\t\\t{:.2f}\\t{:.2f}\\t{:.2f}\\t{:.2f}\\t{}\".format(pearsonr, pval, np.mean(xax_all-yax_all), np.std(xax_all-yax_all), xax_all.size))\n",
    "\n",
    "    idx_rice = np.where((xax_all > 0.0) & (yax_all > 0.0))[0]\n",
    "    xax_rice = np.array(tcwret_av[key]['rice(um)'].iloc[idx_tcwret])[idx_rice]\n",
    "    yax_rice = np.array(cloudnet_av['rice(um)'].iloc[idx_cloudnet])[idx_rice]\n",
    "    pearsonr, pval = scipy.stats.pearsonr(xax_rice,yax_rice)\n",
    "\n",
    "    print(\"rice\\t\\t{:.2f}\\t{:.2f}\\t{:.2f}\\t{:.2f}\\t{}\\n\".format(pearsonr, pval, np.mean(xax_rice-yax_rice), np.std(xax_rice-yax_rice), xax_rice.size))"
   ]
  }
 ],
 "metadata": {
  "kernelspec": {
   "display_name": "Python 3",
   "language": "python",
   "name": "python3"
  },
  "language_info": {
   "codemirror_mode": {
    "name": "ipython",
    "version": 3
   },
   "file_extension": ".py",
   "mimetype": "text/x-python",
   "name": "python",
   "nbconvert_exporter": "python",
   "pygments_lexer": "ipython3",
   "version": "3.7.6"
  }
 },
 "nbformat": 4,
 "nbformat_minor": 4
}
