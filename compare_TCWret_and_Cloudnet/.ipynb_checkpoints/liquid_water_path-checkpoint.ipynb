{
 "cells": [
  {
   "cell_type": "markdown",
   "metadata": {},
   "source": [
    "## Compare liquid water paths"
   ]
  },
  {
   "cell_type": "code",
   "execution_count": null,
   "metadata": {},
   "outputs": [],
   "source": [
    "import os\n",
    "import netCDF4 as nc\n",
    "import datetime as dt\n",
    "import numpy as np\n",
    "import pandas as pd\n",
    "import matplotlib.pyplot as plt\n",
    "import scipy.stats\n",
    "import urllib.request\n",
    "import urllib.error"
   ]
  },
  {
   "cell_type": "markdown",
   "metadata": {},
   "source": [
    "Download TCWret data"
   ]
  },
  {
   "cell_type": "code",
   "execution_count": null,
   "metadata": {},
   "outputs": [],
   "source": [
    "fname_tcwret = \"TCWret.nc\"\n",
    "url = \"https://download.pangaea.de/dataset/933829/files/TCWret_PS106_PS107.nc\"\n",
    "if not os.path.exists(fname_tcwret):\n",
    "    try:\n",
    "        response = urllib.request.urlopen(url)\n",
    "    except urllib.error.HTTPError:\n",
    "        print(\"URL not found!\")\n",
    "    else:\n",
    "        data = response.read()\n",
    "        with open(fname_tcwret, 'wb') as fobj:\n",
    "            fobj.write(data)"
   ]
  },
  {
   "cell_type": "markdown",
   "metadata": {},
   "source": [
    "Define paths where to find the data. Cloudnet data must be downloaded from Pangaea first!"
   ]
  },
  {
   "cell_type": "code",
   "execution_count": null,
   "metadata": {},
   "outputs": [],
   "source": [
    "path_cnet = '../get_cloudnet'"
   ]
  },
  {
   "cell_type": "markdown",
   "metadata": {},
   "source": [
    "Read data from TCWret and save them as Pandas.DataFrame"
   ]
  },
  {
   "cell_type": "code",
   "execution_count": null,
   "metadata": {},
   "outputs": [],
   "source": [
    "with nc.Dataset(fname_tcwret) as f:\n",
    "    lat = f.variables['latitude'][:]\n",
    "    lon = f.variables['longitude'][:]\n",
    "    seconds = f.variables['time_of_measurement'][:]\n",
    "    lwp = f.variables['liquid_water_path'][:]\n",
    "    lwp_err = f.variables['liquid_water_path_error'][:]\n",
    "    rliq = f.variables['liquid_water_effective_droplet_radius'][:]\n",
    "    rice = f.variables['ice_water_effective_droplet_radius'][:]\n",
    "    red_chi_2 = f.variables['reduced_chi_2'][:]\n",
    "    t_cw = f.variables['liquid_water_optical_depth'][:] + f.variables['ice_water_optical_depth'][:]\n",
    "    t_liq = f.variables['liquid_water_optical_depth'][:]\n",
    "    dof = f.variables['degrees_of_freedom_of_signal'][:]\n",
    "    pwv = f.variables['precipitable_water_vapour'][:]\n",
    "\n",
    "time = np.array([])\n",
    "for ii in range(len(seconds)):\n",
    "    sec = int(seconds[ii])\n",
    "    time = np.concatenate((time, [dt.timedelta(seconds=sec) + dt.datetime(2017, 5, 1)]))\n",
    "    \n",
    "tcwret_raw = pd.DataFrame({'time': time, 'longitude': lon, 'latitude': lat, 'pwv(cm)': pwv, 'rliq(um)': rliq, 'rice(um)': rice, 'lwp(gm-2)': lwp, 'dlwp(gm-2)': lwp_err, 'red_chi_2(1)': red_chi_2, 'tcw(1)': t_cw, 'dof(1)': dof})"
   ]
  },
  {
   "cell_type": "markdown",
   "metadata": {},
   "source": [
    "Apply filtering of data"
   ]
  },
  {
   "cell_type": "code",
   "execution_count": null,
   "metadata": {},
   "outputs": [],
   "source": [
    "tau_max = 6.0\n",
    "tau_min = 0.0\n",
    "\n",
    "idx_conv = np.where((tcwret_raw['red_chi_2(1)'] <= 1.0) & (tcwret_raw['red_chi_2(1)'] >= 0.0))[0]\n",
    "idx_tau = np.where((tcwret_raw['tcw(1)'] <= tau_max) & (tcwret_raw['tcw(1)'] >= tau_min))[0]\n",
    "idx_valid = np.intersect1d(idx_conv, idx_tau)\n",
    "tcwret = tcwret_raw.iloc[idx_valid]\n",
    "tcwret = tcwret.iloc[np.array(tcwret['rliq(um)']) <  np.array(tcwret['rice(um)'])]"
   ]
  },
  {
   "cell_type": "code",
   "execution_count": null,
   "metadata": {},
   "outputs": [],
   "source": [
    "tcwret.mean()"
   ]
  },
  {
   "cell_type": "markdown",
   "metadata": {},
   "source": [
    "Read Cloudnet data. Only allow retrieval flags 0,1,2 and 3"
   ]
  },
  {
   "cell_type": "code",
   "execution_count": null,
   "metadata": {},
   "outputs": [],
   "source": [
    "lwc_st_invalid = [4,5,6]\n",
    "cloudnet = {'time': [], 'lwp(gm-2)': [], 'lwp_mwr(gm-2)': [], 'lwp_err_mwr(gm-2)': []}\n",
    "for file_ in sorted(os.listdir(path_cnet)):\n",
    "    if \".nc\" in file_:\n",
    "        with nc.Dataset(os.path.join(path_cnet, file_)) as f:\n",
    "            if \"cnet\" not in file_:\n",
    "                continue\n",
    "            day_month = dt.datetime.strptime(file_, 'cnet_%m_%d.nc')\n",
    "            day = dt.datetime(2017, day_month.month, day_month.day)\n",
    "            time = f.variables['datetime'][:]\n",
    "            lwp = f.variables['liquid_water_path_per_layer'][:]\n",
    "            lwp_st = f.variables['liquid_water_content_status'][:]\n",
    "            iwp_st = f.variables['ice_water_content_status'][:]\n",
    "            lwp_mwr = f.variables['liquid_water_path_MWR'][:]\n",
    "            lwp_err_mwr = f.variables['liquid_water_path_error_MWR'][:]\n",
    "            for time_idx in range(len(time)):\n",
    "                time_iter = day + dt.timedelta(seconds=int(np.round(time[time_idx]*3600)))\n",
    "                idx_liq = np.where(lwp[time_idx] > 0.0)[0]               \n",
    "\n",
    "                lwc_invalid = np.intersect1d(lwp_st[time_idx], np.array(lwc_st_invalid))\n",
    "                if lwc_invalid.size != 0: continue\n",
    "\n",
    "                cloudnet['time'].append(time_iter)\n",
    "                cloudnet['lwp_mwr(gm-2)'].append(lwp_mwr[time_idx])\n",
    "                cloudnet['lwp_err_mwr(gm-2)'].append(lwp_err_mwr[time_idx])\n",
    "                cloudnet['lwp(gm-2)'].append(np.sum(lwp[time_idx]))\n",
    "cloudnet = pd.DataFrame(cloudnet)"
   ]
  },
  {
   "cell_type": "markdown",
   "metadata": {},
   "source": [
    "Remove NaN"
   ]
  },
  {
   "cell_type": "code",
   "execution_count": null,
   "metadata": {},
   "outputs": [],
   "source": [
    "idx = np.array([])\n",
    "for ii in range(len(cloudnet)):\n",
    "    if not np.ma.is_masked(cloudnet['lwp_mwr(gm-2)'].iloc[ii]) and not np.ma.is_masked(cloudnet['lwp(gm-2)'].iloc[ii]):\n",
    "        idx = np.concatenate((idx, [ii]))\n",
    "idx = np.array(idx, dtype=int)\n",
    "cloudnet = cloudnet.iloc[idx]"
   ]
  },
  {
   "cell_type": "markdown",
   "metadata": {},
   "source": [
    "Define averaging time interval"
   ]
  },
  {
   "cell_type": "code",
   "execution_count": null,
   "metadata": {},
   "outputs": [],
   "source": [
    "delta = 2"
   ]
  },
  {
   "cell_type": "markdown",
   "metadata": {},
   "source": [
    "Average Cloudnet data"
   ]
  },
  {
   "cell_type": "code",
   "execution_count": null,
   "metadata": {},
   "outputs": [],
   "source": [
    "cloudnet['time'].iloc[0].to_pydatetime()\n",
    "lwp_mean = []\n",
    "lwp_mean_mwr = []\n",
    "iwp_mean = []\n",
    "cwp_mean = []\n",
    "rliq_mean = []\n",
    "rice_mean = []\n",
    "lat_mean = []\n",
    "lon_mean = []\n",
    "time_mean = []\n",
    "lwp_mean_err_mwr = []\n",
    "dp = []\n",
    "datetime_start = np.datetime64(\"2017-05-24T20:25:00\")\n",
    "datetime_iter = datetime_start\n",
    "datetime_stop = np.datetime64(\"2017-07-18T00:00:00\")\n",
    "while datetime_iter < datetime_stop:\n",
    "    idx = np.where((np.array(cloudnet['time']) > datetime_iter) & \\\n",
    "                   (np.array(cloudnet['time']) < datetime_iter+np.timedelta64(delta*60, 's')))[0]\n",
    "    if idx.size != 0:\n",
    "        lwp_mean_mwr.append(np.mean(np.array(cloudnet['lwp_mwr(gm-2)'])[idx]))\n",
    "        lwp_mean_err_mwr.append(np.mean(np.array(cloudnet['lwp_err_mwr(gm-2)'])[idx]))\n",
    "        lwp_mean.append(np.mean(np.array(cloudnet['lwp(gm-2)'])[idx]))\n",
    "        time_mean.append(datetime_iter)\n",
    "        dp.append(idx.size)\n",
    "    datetime_iter += np.timedelta64(delta*60, 's')\n",
    "    \n",
    "cloudnet_av = pd.DataFrame({'time': time_mean, 'lwp_mwr(gm-2)': lwp_mean_mwr, 'lwp(gm-2)': lwp_mean, 'lwp_err_mwr(gm-2)': lwp_mean_err_mwr, 'dp': dp})"
   ]
  },
  {
   "cell_type": "markdown",
   "metadata": {},
   "source": [
    "Average TCWret data"
   ]
  },
  {
   "cell_type": "code",
   "execution_count": null,
   "metadata": {},
   "outputs": [],
   "source": [
    "lwp_mean = []\n",
    "dlwp_mean = []\n",
    "iwp_mean = []\n",
    "cwp_mean = []\n",
    "dof_mean = []\n",
    "rliq_mean = []\n",
    "rice_mean = []\n",
    "lat_mean = []\n",
    "lon_mean = []\n",
    "time_mean = []\n",
    "tcw_mean = []\n",
    "chi_mean = []\n",
    "pwv_mean = []\n",
    "datetime_start = np.datetime64(\"2017-05-24T20:25:00\")\n",
    "datetime_iter = datetime_start\n",
    "datetime_stop = np.datetime64(\"2017-07-18T00:00:00\")\n",
    "while datetime_iter < datetime_stop:\n",
    "    idx = np.where((np.array(tcwret['time']) > datetime_iter) & \\\n",
    "                   (np.array(tcwret['time']) < datetime_iter+np.timedelta64(delta*60, 's')))[0]\n",
    "    if idx.size != 0:\n",
    "        tcw_mean.append(np.mean(np.array(tcwret['tcw(1)'])[idx]))\n",
    "        lwp_mean.append(np.mean(np.array(tcwret['lwp(gm-2)'])[idx]))\n",
    "        dlwp_mean.append(np.mean(np.array(tcwret['dlwp(gm-2)'])[idx]))\n",
    "        dof_mean.append(np.mean(np.array(tcwret['dof(1)'])[idx]))\n",
    "        chi_mean.append(np.mean(np.array(tcwret['red_chi_2(1)'])[idx]))\n",
    "        pwv_mean.append(np.mean(np.array(tcwret['pwv(cm)'])[idx]))\n",
    "        time_mean.append(datetime_iter)\n",
    "    datetime_iter += np.timedelta64(delta*60, 's')\n",
    "    \n",
    "tcwret_av = pd.DataFrame({'time': time_mean, 'lwp(gm-2)': lwp_mean, 'dlwp(gm-2)': dlwp_mean, 'tcw(1)': tcw_mean, 'dof(1)': dof_mean, 'red_chi_2(1)': chi_mean, 'pwv(cm)': pwv_mean})"
   ]
  },
  {
   "cell_type": "markdown",
   "metadata": {},
   "source": [
    "Error scaling factor according to testcases"
   ]
  },
  {
   "cell_type": "code",
   "execution_count": null,
   "metadata": {},
   "outputs": [],
   "source": [
    "scale = 2.6"
   ]
  },
  {
   "cell_type": "markdown",
   "metadata": {},
   "source": [
    "Calculate correlation coefficient, p-Value, mean and standard deviation"
   ]
  },
  {
   "cell_type": "code",
   "execution_count": null,
   "metadata": {},
   "outputs": [],
   "source": [
    "print(\"Data\\t\\t\\tcor\\tp-Value\\tMean\\tSD\\tNumber\")\n",
    "\n",
    "intersect, idx_tcwret, idx_cloudnet = np.intersect1d(tcwret_av['time'], cloudnet_av['time'], return_indices=True)\n",
    "xax = np.array(tcwret_av['lwp(gm-2)'].iloc[idx_tcwret])\n",
    "yax = np.array(cloudnet_av['lwp_mwr(gm-2)'].iloc[idx_cloudnet])\n",
    "xax_err = np.array(tcwret_av['dlwp(gm-2)'].iloc[idx_tcwret])*scale\n",
    "yax_err = np.array(cloudnet_av['lwp_err_mwr(gm-2)'].iloc[idx_cloudnet])\n",
    "cax = np.array(tcwret_av['pwv(cm)'].iloc[idx_tcwret])\n",
    "diff_all = xax-yax\n",
    "pearsonr, pval = scipy.stats.pearsonr(xax,yax)\n",
    "print(\"LWP All\\t\\t\\t{:.2f}\\t{:.2f}\\t{:.2f}\\t{:.2f}\\t{}\".format(pearsonr, pval, np.mean(diff_all), np.std(diff_all), xax.size))\n",
    "\n",
    "idx = np.where((cax <= 1.0))[0]\n",
    "xax_pwv = xax[idx]\n",
    "yax_pwv = yax[idx]\n",
    "xax_pwv_err = xax_err[idx]\n",
    "yax_pwv_err = yax_err[idx]\n",
    "pearsonr, pval = scipy.stats.pearsonr(xax_pwv,yax_pwv)\n",
    "diff_pwv = xax_pwv - yax_pwv\n",
    "print(\"LWP PWV < 1.0\\t\\t{:.2f}\\t{:.2f}\\t{:.2f}\\t{:.2f}\\t{}\".format(pearsonr, pval, np.mean(diff_pwv), np.std(diff_pwv), idx.size))\n",
    "\n",
    "idx = np.where(yax <= 20.0)[0]\n",
    "xax_thin = xax[idx]\n",
    "yax_thin = yax[idx]\n",
    "xax_thin_err = xax_err[idx]\n",
    "yax_thin_err = yax_err[idx]\n",
    "pearsonr, pval = scipy.stats.pearsonr(xax_thin,yax_thin)\n",
    "diff_thin = xax_thin-yax_thin\n",
    "print(\"LWP < 20.0\\t\\t{:.2f}\\t{:.2f}\\t{:.2f}\\t{:.2f}\\t{}\".format(pearsonr, pval, np.mean(diff_thin), np.std(diff_thin), idx.size))\n",
    "\n",
    "idx = np.where((yax <= 20.0) & (cax <= 1.0))[0]\n",
    "xax_pwv_thin = xax[idx]\n",
    "yax_pwv_thin = yax[idx]\n",
    "xax_pwv_thin_err = xax_err[idx]\n",
    "yax_pwv_thin_err = yax_err[idx]\n",
    "pearsonr, pval = scipy.stats.pearsonr(xax_pwv_thin,yax_pwv_thin)\n",
    "diff_pwv_thin = xax_pwv_thin-yax_pwv_thin\n",
    "print(\"LWP < 20.0 PWV < 1.0\\t{:.2f}\\t{:.2f}\\t{:.2f}\\t{:.2f}\\t{}\".format(pearsonr, pval, np.mean(diff_pwv_thin), np.std(diff_pwv_thin), idx.size))\n"
   ]
  }
 ],
 "metadata": {
  "kernelspec": {
   "display_name": "Python 3",
   "language": "python",
   "name": "python3"
  },
  "language_info": {
   "codemirror_mode": {
    "name": "ipython",
    "version": 3
   },
   "file_extension": ".py",
   "mimetype": "text/x-python",
   "name": "python",
   "nbconvert_exporter": "python",
   "pygments_lexer": "ipython3",
   "version": "3.7.6"
  }
 },
 "nbformat": 4,
 "nbformat_minor": 4
}
